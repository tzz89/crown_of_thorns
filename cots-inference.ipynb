{
 "cells": [
  {
   "cell_type": "code",
   "execution_count": 1,
   "id": "69c3cf26",
   "metadata": {
    "execution": {
     "iopub.execute_input": "2022-01-13T06:00:59.280326Z",
     "iopub.status.busy": "2022-01-13T06:00:59.279662Z",
     "iopub.status.idle": "2022-01-13T06:01:03.406111Z",
     "shell.execute_reply": "2022-01-13T06:01:03.405000Z",
     "shell.execute_reply.started": "2022-01-13T05:58:52.041237Z"
    },
    "papermill": {
     "duration": 4.14509,
     "end_time": "2022-01-13T06:01:03.406294",
     "exception": false,
     "start_time": "2022-01-13T06:00:59.261204",
     "status": "completed"
    },
    "tags": []
   },
   "outputs": [],
   "source": [
    "import numpy as np\n",
    "import os\n",
    "import sys\n",
    "import tensorflow as tf\n",
    "import time\n",
    "\n",
    "# Import the library that is used to submit the prediction result.\n",
    "INPUT_DIR = '../input/tensorflow-great-barrier-reef/'\n",
    "sys.path.insert(0, INPUT_DIR)\n",
    "import greatbarrierreef"
   ]
  },
  {
   "cell_type": "markdown",
   "id": "35c15358",
   "metadata": {
    "execution": {
     "iopub.execute_input": "2021-11-23T03:32:24.290814Z",
     "iopub.status.busy": "2021-11-23T03:32:24.29052Z",
     "iopub.status.idle": "2021-11-23T03:32:24.295257Z",
     "shell.execute_reply": "2021-11-23T03:32:24.294012Z",
     "shell.execute_reply.started": "2021-11-23T03:32:24.290785Z"
    },
    "papermill": {
     "duration": 0.006387,
     "end_time": "2022-01-13T06:01:03.419981",
     "exception": false,
     "start_time": "2022-01-13T06:01:03.413594",
     "status": "completed"
    },
    "tags": []
   },
   "source": [
    "## Load the TensorFlow COTS detection model into memory and define some util functions for running inference."
   ]
  },
  {
   "cell_type": "code",
   "execution_count": 2,
   "id": "bf457389",
   "metadata": {
    "execution": {
     "iopub.execute_input": "2022-01-13T06:01:03.438635Z",
     "iopub.status.busy": "2022-01-13T06:01:03.437834Z",
     "iopub.status.idle": "2022-01-13T06:01:34.249045Z",
     "shell.execute_reply": "2022-01-13T06:01:34.249691Z",
     "shell.execute_reply.started": "2022-01-13T05:59:35.338506Z"
    },
    "papermill": {
     "duration": 30.823397,
     "end_time": "2022-01-13T06:01:34.249889",
     "exception": false,
     "start_time": "2022-01-13T06:01:03.426492",
     "status": "completed"
    },
    "tags": []
   },
   "outputs": [
    {
     "name": "stderr",
     "output_type": "stream",
     "text": [
      "2022-01-13 06:01:06.362795: I tensorflow/stream_executor/cuda/cuda_gpu_executor.cc:937] successful NUMA node read from SysFS had negative value (-1), but there must be at least one NUMA node, so returning NUMA node zero\n",
      "2022-01-13 06:01:06.485644: I tensorflow/stream_executor/cuda/cuda_gpu_executor.cc:937] successful NUMA node read from SysFS had negative value (-1), but there must be at least one NUMA node, so returning NUMA node zero\n",
      "2022-01-13 06:01:06.486346: I tensorflow/stream_executor/cuda/cuda_gpu_executor.cc:937] successful NUMA node read from SysFS had negative value (-1), but there must be at least one NUMA node, so returning NUMA node zero\n",
      "2022-01-13 06:01:06.487406: I tensorflow/core/platform/cpu_feature_guard.cc:142] This TensorFlow binary is optimized with oneAPI Deep Neural Network Library (oneDNN) to use the following CPU instructions in performance-critical operations:  AVX2 AVX512F FMA\n",
      "To enable them in other operations, rebuild TensorFlow with the appropriate compiler flags.\n",
      "2022-01-13 06:01:06.496562: I tensorflow/stream_executor/cuda/cuda_gpu_executor.cc:937] successful NUMA node read from SysFS had negative value (-1), but there must be at least one NUMA node, so returning NUMA node zero\n",
      "2022-01-13 06:01:06.497283: I tensorflow/stream_executor/cuda/cuda_gpu_executor.cc:937] successful NUMA node read from SysFS had negative value (-1), but there must be at least one NUMA node, so returning NUMA node zero\n",
      "2022-01-13 06:01:06.497970: I tensorflow/stream_executor/cuda/cuda_gpu_executor.cc:937] successful NUMA node read from SysFS had negative value (-1), but there must be at least one NUMA node, so returning NUMA node zero\n",
      "2022-01-13 06:01:08.291552: I tensorflow/stream_executor/cuda/cuda_gpu_executor.cc:937] successful NUMA node read from SysFS had negative value (-1), but there must be at least one NUMA node, so returning NUMA node zero\n",
      "2022-01-13 06:01:08.292441: I tensorflow/stream_executor/cuda/cuda_gpu_executor.cc:937] successful NUMA node read from SysFS had negative value (-1), but there must be at least one NUMA node, so returning NUMA node zero\n",
      "2022-01-13 06:01:08.293232: I tensorflow/stream_executor/cuda/cuda_gpu_executor.cc:937] successful NUMA node read from SysFS had negative value (-1), but there must be at least one NUMA node, so returning NUMA node zero\n",
      "2022-01-13 06:01:08.293928: I tensorflow/core/common_runtime/gpu/gpu_device.cc:1510] Created device /job:localhost/replica:0/task:0/device:GPU:0 with 15403 MB memory:  -> device: 0, name: Tesla P100-PCIE-16GB, pci bus id: 0000:00:04.0, compute capability: 6.0\n"
     ]
    },
    {
     "name": "stdout",
     "output_type": "stream",
     "text": [
      "Elapsed time: 30.80123233795166s\n"
     ]
    }
   ],
   "source": [
    "MODEL_DIR = '../input/cots-model-bo'\n",
    "start_time = time.time()\n",
    "tf.keras.backend.clear_session()\n",
    "detect_fn_tf_odt = tf.saved_model.load(os.path.join(os.path.join(MODEL_DIR, 'output'), 'saved_model'))\n",
    "end_time = time.time()\n",
    "elapsed_time = end_time - start_time\n",
    "print('Elapsed time: ' + str(elapsed_time) + 's')"
   ]
  },
  {
   "cell_type": "code",
   "execution_count": 3,
   "id": "0ef31f1b",
   "metadata": {
    "execution": {
     "iopub.execute_input": "2022-01-13T06:01:34.270692Z",
     "iopub.status.busy": "2022-01-13T06:01:34.270143Z",
     "iopub.status.idle": "2022-01-13T06:01:34.273478Z",
     "shell.execute_reply": "2022-01-13T06:01:34.273908Z",
     "shell.execute_reply.started": "2022-01-13T06:00:04.404583Z"
    },
    "papermill": {
     "duration": 0.016816,
     "end_time": "2022-01-13T06:01:34.274062",
     "exception": false,
     "start_time": "2022-01-13T06:01:34.257246",
     "status": "completed"
    },
    "tags": []
   },
   "outputs": [],
   "source": [
    "def load_image_into_numpy_array(path):\n",
    "    \"\"\"Load an image from file into a numpy array.\n",
    "\n",
    "    Puts image into numpy array to feed into tensorflow graph.\n",
    "    Note that by convention we put it into a numpy array with shape\n",
    "    (height, width, channels), where channels=3 for RGB.\n",
    "\n",
    "    Args:\n",
    "    path: a file path (this can be local or on colossus)\n",
    "\n",
    "    Returns:\n",
    "    uint8 numpy array with shape (img_height, img_width, 3)\n",
    "    \"\"\"\n",
    "    img_data = tf.io.gfile.GFile(path, 'rb').read()\n",
    "    image = Image.open(io.BytesIO(img_data))\n",
    "    (im_width, im_height) = image.size\n",
    "    \n",
    "    return np.array(image.getdata()).reshape(\n",
    "      (im_height, im_width, 3)).astype(np.uint8)\n",
    "\n",
    "def detect(image_np):\n",
    "    \"\"\"Detect COTS from a given numpy image.\"\"\"\n",
    "\n",
    "    input_tensor = np.expand_dims(image_np, 0)\n",
    "    start_time = time.time()\n",
    "    detections = detect_fn_tf_odt(input_tensor)\n",
    "    return detections"
   ]
  },
  {
   "cell_type": "markdown",
   "id": "85a1e827",
   "metadata": {
    "papermill": {
     "duration": 0.006214,
     "end_time": "2022-01-13T06:01:34.286770",
     "exception": false,
     "start_time": "2022-01-13T06:01:34.280556",
     "status": "completed"
    },
    "tags": []
   },
   "source": [
    "## Run inference and create the submission data"
   ]
  },
  {
   "cell_type": "code",
   "execution_count": 4,
   "id": "5001616b",
   "metadata": {
    "execution": {
     "iopub.execute_input": "2022-01-13T06:01:34.305255Z",
     "iopub.status.busy": "2022-01-13T06:01:34.303602Z",
     "iopub.status.idle": "2022-01-13T06:01:34.305855Z",
     "shell.execute_reply": "2022-01-13T06:01:34.306259Z",
     "shell.execute_reply.started": "2022-01-13T06:00:15.220965Z"
    },
    "papermill": {
     "duration": 0.01316,
     "end_time": "2022-01-13T06:01:34.306384",
     "exception": false,
     "start_time": "2022-01-13T06:01:34.293224",
     "status": "completed"
    },
    "tags": []
   },
   "outputs": [],
   "source": [
    "env = greatbarrierreef.make_env()   # initialize the environment\n",
    "iter_test = env.iter_test()    # an iterator which loops over the test set and sample submission"
   ]
  },
  {
   "cell_type": "code",
   "execution_count": 5,
   "id": "f450e66e",
   "metadata": {
    "execution": {
     "iopub.execute_input": "2022-01-13T06:01:34.328531Z",
     "iopub.status.busy": "2022-01-13T06:01:34.327974Z",
     "iopub.status.idle": "2022-01-13T06:01:44.224146Z",
     "shell.execute_reply": "2022-01-13T06:01:44.223312Z",
     "shell.execute_reply.started": "2022-01-13T06:00:16.649539Z"
    },
    "papermill": {
     "duration": 9.911556,
     "end_time": "2022-01-13T06:01:44.224288",
     "exception": false,
     "start_time": "2022-01-13T06:01:34.312732",
     "status": "completed"
    },
    "tags": []
   },
   "outputs": [
    {
     "name": "stdout",
     "output_type": "stream",
     "text": [
      "This version of the API is not optimized and should not be used to estimate the runtime of your code on the hidden test set.\n"
     ]
    },
    {
     "name": "stderr",
     "output_type": "stream",
     "text": [
      "2022-01-13 06:01:35.310585: I tensorflow/compiler/mlir/mlir_graph_optimization_pass.cc:185] None of the MLIR Optimization Passes are enabled (registered 2)\n",
      "2022-01-13 06:01:38.608266: I tensorflow/stream_executor/cuda/cuda_dnn.cc:369] Loaded cuDNN version 8005\n"
     ]
    },
    {
     "name": "stdout",
     "output_type": "stream",
     "text": [
      "Prediction: \n",
      "Prediction: \n",
      "Prediction: \n"
     ]
    }
   ],
   "source": [
    "DETECTION_THRESHOLD = 0.3\n",
    "\n",
    "submission_dict = {\n",
    "    'id': [],\n",
    "    'prediction_string': [],\n",
    "}\n",
    "\n",
    "for (image_np, sample_prediction_df) in iter_test:\n",
    "    height, width, _ = image_np.shape\n",
    "    \n",
    "    # Run object detection using the TensorFlow model.\n",
    "    detections = detect(image_np)\n",
    "    \n",
    "    # Parse the detection result and generate a prediction string.\n",
    "    num_detections = detections['num_detections'][0].numpy().astype(np.int32)\n",
    "    predictions = []\n",
    "    for index in range(num_detections):\n",
    "        score = detections['detection_scores'][0][index].numpy()\n",
    "        if score < DETECTION_THRESHOLD:\n",
    "            continue\n",
    "\n",
    "        bbox = detections['detection_boxes'][0][index].numpy()\n",
    "        y_min = int(bbox[0] * height)\n",
    "        x_min = int(bbox[1] * width)\n",
    "        y_max = int(bbox[2] * height)\n",
    "        x_max = int(bbox[3] * width)\n",
    "        \n",
    "        bbox_width = x_max - x_min\n",
    "        bbox_height = y_max - y_min\n",
    "        \n",
    "        predictions.append('{:.2f} {} {} {} {}'.format(score, x_min, y_min, bbox_width, bbox_height))\n",
    "    \n",
    "    # Generate the submission data.\n",
    "    prediction_str = ' '.join(predictions)\n",
    "    sample_prediction_df['annotations'] = prediction_str\n",
    "    env.predict(sample_prediction_df)\n",
    "\n",
    "    print('Prediction:', prediction_str)"
   ]
  },
  {
   "cell_type": "code",
   "execution_count": null,
   "id": "5d647955",
   "metadata": {
    "papermill": {
     "duration": 0.008234,
     "end_time": "2022-01-13T06:01:44.240798",
     "exception": false,
     "start_time": "2022-01-13T06:01:44.232564",
     "status": "completed"
    },
    "tags": []
   },
   "outputs": [],
   "source": []
  }
 ],
 "metadata": {
  "kernelspec": {
   "display_name": "Python 3",
   "language": "python",
   "name": "python3"
  },
  "language_info": {
   "codemirror_mode": {
    "name": "ipython",
    "version": 3
   },
   "file_extension": ".py",
   "mimetype": "text/x-python",
   "name": "python",
   "nbconvert_exporter": "python",
   "pygments_lexer": "ipython3",
   "version": "3.7.10"
  },
  "papermill": {
   "default_parameters": {},
   "duration": 56.375964,
   "end_time": "2022-01-13T06:01:47.887402",
   "environment_variables": {},
   "exception": null,
   "input_path": "__notebook__.ipynb",
   "output_path": "__notebook__.ipynb",
   "parameters": {},
   "start_time": "2022-01-13T06:00:51.511438",
   "version": "2.3.3"
  }
 },
 "nbformat": 4,
 "nbformat_minor": 5
}
